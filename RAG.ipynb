{
 "cells": [
  {
   "cell_type": "markdown",
   "id": "0215e600-9c60-4183-83ed-05c8a7070398",
   "metadata": {},
   "source": [
    "### Imports"
   ]
  },
  {
   "cell_type": "code",
   "execution_count": null,
   "id": "2dc5f631-9c36-4570-948d-3685658387dd",
   "metadata": {},
   "outputs": [],
   "source": [
    "import os\n",
    "import dill\n",
    "import pickle\n",
    "import pandas as pd\n",
    "from typing import List\n",
    "\n",
    "pd.set_option('display.max_rows', None)\n",
    "pd.set_option('display.max_columns', None)\n",
    "pd.set_option(\"display.max_colwidth\", None)\n",
    "\n",
    "from langchain_core.output_parsers import StrOutputParser,JsonOutputParser\n",
    "from langchain_core.runnables import RunnableLambda"
   ]
  },
  {
   "cell_type": "markdown",
   "id": "d6282c32-07c4-4003-a388-80d0750716ec",
   "metadata": {},
   "source": [
    "# Data"
   ]
  },
  {
   "cell_type": "markdown",
   "id": "db86680f-0975-4892-bef1-8fc48eac3b34",
   "metadata": {},
   "source": [
    "### Question"
   ]
  },
  {
   "cell_type": "code",
   "execution_count": null,
   "id": "527f7cae-c102-4a77-892b-00f82ab49c9b",
   "metadata": {},
   "outputs": [],
   "source": [
    "df = pd.read_excel(\"../evaluation/xxxxx.xlsx\")\n",
    "df = df[[\"index\",\"problem\"]]"
   ]
  },
  {
   "cell_type": "markdown",
   "id": "6b5a7609-e4fc-4946-ab6b-bdb118be5e04",
   "metadata": {},
   "source": [
    "### Novel data"
   ]
  },
  {
   "cell_type": "code",
   "execution_count": null,
   "id": "4940d577-38e2-4e98-92bd-e4fff8343445",
   "metadata": {},
   "outputs": [],
   "source": [
    "from components.data import get_novel_data, get_novel_summary, get_novel_docs\n",
    "texts_dic = get_novel_data()\n",
    "documents_dic = get_novel_docs(texts_dic,chunk_size = 512, chunk_overlap = 128)\n",
    "novels_dic = get_novel_summary()"
   ]
  },
  {
   "cell_type": "markdown",
   "id": "ac03eb61-dc99-4253-9916-108b979d8bd6",
   "metadata": {},
   "source": [
    "# LLMs"
   ]
  },
  {
   "cell_type": "code",
   "execution_count": null,
   "id": "656fc416-e01a-418e-9f47-6ae0efe775ce",
   "metadata": {},
   "outputs": [],
   "source": [
    "from langchain_openai import ChatOpenAI\n",
    "llm         = ChatOpenAI(model=\"gpt-4o-2024-08-06\",temperature=0)\n",
    "llm_4o_mini = ChatOpenAI(model=\"gpt-4o-mini\",temperature=0)\n",
    "llm_rag     = ChatOpenAI(model=\"gpt-4o-2024-08-06\",temperature=0)"
   ]
  },
  {
   "cell_type": "code",
   "execution_count": null,
   "id": "c44eaa9f-fcfa-4a59-bdab-d07cf7da8d49",
   "metadata": {},
   "outputs": [],
   "source": [
    "from langchain_openai import OpenAIEmbeddings\n",
    "embeddings = OpenAIEmbeddings()\n",
    "\n",
    "from langchain_huggingface.embeddings import HuggingFaceEmbeddings\n",
    "embeddings_e5 = HuggingFaceEmbeddings(model_name=\"intfloat/multilingual-e5-large\")"
   ]
  },
  {
   "cell_type": "markdown",
   "id": "b1500938-9a67-4630-a934-1bd6343894c9",
   "metadata": {},
   "source": [
    "# Knowledge DBs"
   ]
  },
  {
   "cell_type": "markdown",
   "id": "fbf45ec4-36b5-4fb7-9448-24498e6a73df",
   "metadata": {},
   "source": [
    "### FAISS for title classification"
   ]
  },
  {
   "cell_type": "code",
   "execution_count": null,
   "id": "f973c0e5-7237-4deb-8254-b46878dd9036",
   "metadata": {},
   "outputs": [],
   "source": [
    "from langchain_community.vectorstores import FAISS\n",
    "faiss_list_e5_ = []\n",
    "for k in range(1,7+1):\n",
    "    faiss_db_ = FAISS.load_local(\n",
    "        folder_path = \"./dbs/faiss_db_e5\",\n",
    "        index_name = f\"faiss_{k}\",\n",
    "        embeddings = embeddings_e5,\n",
    "        allow_dangerous_deserialization = True\n",
    "    )\n",
    "    faiss_list_e5_.append(faiss_db_)\n",
    "\n",
    "# 統合\n",
    "faiss_db_e5 = None\n",
    "for faiss in faiss_list_e5_:\n",
    "    if faiss_db_e5:\n",
    "        faiss_db_e5.merge_from(faiss)\n",
    "    else:\n",
    "        faiss_db_e5 = faiss\n",
    "\n",
    "faiss_retriever_e5_for_title_classification = faiss_db_e5.as_retriever(\n",
    "    search_kwargs = {\"k\":1}\n",
    ")"
   ]
  },
  {
   "cell_type": "markdown",
   "id": "e7fa71de-9831-416d-934e-4e844bcc437b",
   "metadata": {},
   "source": [
    "### BM25 for title classification"
   ]
  },
  {
   "cell_type": "code",
   "execution_count": null,
   "id": "3012ed48-1bb5-4100-8e76-2090226c9c20",
   "metadata": {},
   "outputs": [],
   "source": [
    "import requests\n",
    "from janome.tokenizer import Tokenizer\n",
    "tokenizer = Tokenizer()\n",
    "\n",
    "# # 日本語ストップワード辞書\n",
    "url = \"https://raw.githubusercontent.com/stopwords-iso/stopwords-ja/master/stopwords-ja.txt\"\n",
    "stopwords_jp = set(requests.get(url).text.split(\"\\n\"))\n",
    "\n",
    "def remove_stopwords(tokens: List[str]) -> List[str]:\n",
    "    \"\"\"指定した単語リストからストップワードを除去した結果を返す\"\"\"\n",
    "    tokens = [token for token in tokens if token not in stopwords_jp]\n",
    "    return tokens"
   ]
  },
  {
   "cell_type": "code",
   "execution_count": null,
   "id": "4fdd5a66-54cb-4774-a48f-95c3ea152af0",
   "metadata": {},
   "outputs": [],
   "source": [
    "# BM25\n",
    "with open('./dbs/bm25.pickle', mode='rb') as f:\n",
    "    bm25_retriever_for_title_classification = dill.load(f)"
   ]
  },
  {
   "cell_type": "markdown",
   "id": "0f784689-a419-4b77-a2fa-0d02a8dd306d",
   "metadata": {},
   "source": [
    "### FAISS for RAG"
   ]
  },
  {
   "cell_type": "code",
   "execution_count": null,
   "id": "16dfdf57-94cd-4161-bf02-c96abb70bd22",
   "metadata": {},
   "outputs": [],
   "source": [
    "def insert_entity_in_metadata(faiss_db,entity_list):\n",
    "    doc_ids = list(faiss_db.index_to_docstore_id.values())\n",
    "    assert len(entity_list) == faiss_db.index.ntotal\n",
    "    for i in range(len(doc_ids)):\n",
    "        faiss_db.docstore._dict[doc_ids[i]].metadata[\"entity\"] = entity_list[i]\n",
    "    return faiss_db"
   ]
  },
  {
   "cell_type": "code",
   "execution_count": null,
   "id": "842c616c-9c73-490b-ac2c-cac4d1631335",
   "metadata": {
    "scrolled": true
   },
   "outputs": [],
   "source": [
    "# ベクトル検索\n",
    "from langchain_community.vectorstores import FAISS\n",
    "faiss_list_e5 = []\n",
    "for k in range(1,7+1):\n",
    "    faiss_db = FAISS.load_local(\n",
    "        folder_path = \"./dbs/faiss_db_e5_v2\",\n",
    "        index_name = f\"faiss_{k}\",\n",
    "        embeddings = embeddings_e5,\n",
    "        allow_dangerous_deserialization = True\n",
    "    )\n",
    "\n",
    "    if k in [3,5]:\n",
    "        save_filename = f\"./dbs/entity/{k}.pickle\"\n",
    "        assert os.path.isfile(save_filename)\n",
    "        \n",
    "        with open(save_filename, 'rb') as file:\n",
    "            entity_list = pickle.load(file)\n",
    "\n",
    "        # insert\n",
    "        faiss_db = insert_entity_in_metadata(faiss_db,entity_list)\n",
    "                \n",
    "    faiss_list_e5.append(faiss_db)"
   ]
  },
  {
   "cell_type": "code",
   "execution_count": null,
   "id": "b64890ba-5d9e-4981-a48b-d58922253312",
   "metadata": {},
   "outputs": [],
   "source": [
    "faiss_retriever_e5_list = [\n",
    "    faiss_db.as_retriever(search_kwargs = {\"k\":50}) for faiss_db in faiss_list_e5\n",
    "]"
   ]
  },
  {
   "cell_type": "markdown",
   "id": "1be47c22-fa4c-46e8-8497-ce2639adce1a",
   "metadata": {},
   "source": [
    "### BM25 for RAG"
   ]
  },
  {
   "cell_type": "code",
   "execution_count": null,
   "id": "78cf43ba-bd96-4baf-a524-8f18de0ccd60",
   "metadata": {},
   "outputs": [],
   "source": [
    "import dill\n",
    "save_folder = \"./dbs/bm25_db_v2\"\n",
    "\n",
    "bm25_retriever_list = []\n",
    "for k in range(1,7+1):\n",
    "    with open(f'{save_folder}/bm25_{k}.pickle', mode='rb') as f:\n",
    "        bm25_retriever = dill.load(f)\n",
    "\n",
    "    if k in [3,5]:\n",
    "        save_filename = f\"./dbs/entity/{k}.pickle\"\n",
    "        assert os.path.isfile(save_filename)\n",
    "        \n",
    "        with open(save_filename, 'rb') as file:\n",
    "            entity_list = pickle.load(file)\n",
    "\n",
    "        for i in range(len(bm25_retriever.docs)):\n",
    "            bm25_retriever.docs[i].metadata[\"entity\"] = entity_list[i]\n",
    "            \n",
    "    try:\n",
    "        bm25_retriever.k = 50\n",
    "    except:\n",
    "        pass\n",
    "    bm25_retriever_list.append(bm25_retriever)"
   ]
  },
  {
   "cell_type": "markdown",
   "id": "c941ae96-8a1f-439e-9f5c-aec23e4fdab7",
   "metadata": {},
   "source": [
    "# Runnables"
   ]
  },
  {
   "cell_type": "markdown",
   "id": "c11acee6-db2c-4f73-9628-dc510c5052ee",
   "metadata": {},
   "source": [
    "### Identify Novel Title Chain"
   ]
  },
  {
   "cell_type": "code",
   "execution_count": null,
   "id": "d7363897-8ac1-4d93-b3c4-d352349c47e4",
   "metadata": {},
   "outputs": [],
   "source": [
    "# keyword extraction from title\n",
    "from components.novel_classify import novel_find_keyword_prompt,find_most_common,pred_title_by_counts,match_title,majority_vote\n",
    "keyword_extraction_for_identify_novel_runnable = novel_find_keyword_prompt | llm | JsonOutputParser()"
   ]
  },
  {
   "cell_type": "code",
   "execution_count": null,
   "id": "d0c97011-47df-42e8-a3d8-fdd4a556c860",
   "metadata": {},
   "outputs": [],
   "source": [
    "# Router\n",
    "from components.router import RouteQuery,router_prompt\n",
    "structured_llm_router = llm_4o_mini.with_structured_output(RouteQuery)\n",
    "router_runnable = router_prompt | structured_llm_router"
   ]
  },
  {
   "cell_type": "code",
   "execution_count": null,
   "id": "cdc1fb64-e952-485e-a8dd-03edef258ea7",
   "metadata": {},
   "outputs": [],
   "source": [
    "# Keyword Counter in novels\n",
    "from components.keyword_counter import make_keyword_prompt,func_count_string_all_text\n",
    "make_keyword_runnable = make_keyword_prompt | llm_4o_mini | StrOutputParser()"
   ]
  },
  {
   "cell_type": "markdown",
   "id": "688f5cea-5ed1-4a1a-9abe-b9f8f814d09d",
   "metadata": {},
   "source": [
    "### Self-Query"
   ]
  },
  {
   "cell_type": "code",
   "execution_count": null,
   "id": "7c478366-77d0-459e-be4f-c7b0eb03a0e3",
   "metadata": {},
   "outputs": [],
   "source": [
    "from components.metadata_filter import entity_filter_prompt,has_common_element,entiry_filter\n",
    "entity_filter_runnable = entity_filter_prompt | llm_4o_mini | JsonOutputParser()"
   ]
  },
  {
   "cell_type": "markdown",
   "id": "873866c2-7abf-4e24-8165-acec38203912",
   "metadata": {},
   "source": [
    "### Reranking"
   ]
  },
  {
   "cell_type": "code",
   "execution_count": null,
   "id": "60e2bd23-d3db-4a9b-aa29-a78b1533a09b",
   "metadata": {},
   "outputs": [],
   "source": [
    "from langchain_cohere import CohereRerank\n",
    "cohere_reranker = CohereRerank(model=\"rerank-multilingual-v3.0\", top_n = 1000)"
   ]
  },
  {
   "cell_type": "markdown",
   "id": "e3a67762-3f8a-4ee4-9cda-38d300179c0c",
   "metadata": {},
   "source": [
    "### Python Agent"
   ]
  },
  {
   "cell_type": "code",
   "execution_count": null,
   "id": "49610a7a-d862-4444-979a-a6a04d748eda",
   "metadata": {},
   "outputs": [],
   "source": [
    "from components.python_repl import python_prompt,create_python_repl_llm,get_python_repl_executed_results"
   ]
  },
  {
   "cell_type": "markdown",
   "id": "8aa001ca-d2bb-47ba-8c94-4af5dd824cf8",
   "metadata": {},
   "source": [
    "### Summary"
   ]
  },
  {
   "cell_type": "code",
   "execution_count": null,
   "id": "a0e3556f-2c3f-4cec-92a3-2919c7906f7e",
   "metadata": {},
   "outputs": [],
   "source": [
    "from components.summary import summary_answer_prompt\n",
    "summary_answer_runnable = summary_answer_prompt | llm | JsonOutputParser()"
   ]
  },
  {
   "cell_type": "markdown",
   "id": "84cd591d-0fa2-43c9-8691-9981b2c6d0c5",
   "metadata": {},
   "source": [
    "### RAG"
   ]
  },
  {
   "cell_type": "code",
   "execution_count": null,
   "id": "439c0e54-c76b-49ab-810c-46b790edc048",
   "metadata": {},
   "outputs": [],
   "source": [
    "# RAG chain\n",
    "from components.utils import format_docs,reciprocal_rank_fusion\n",
    "from components.rag import rag_prompt\n",
    "rag_chain = rag_prompt | llm_rag | StrOutputParser()"
   ]
  },
  {
   "cell_type": "markdown",
   "id": "adc2493b-463f-49fe-8366-f07fb4c53bf0",
   "metadata": {},
   "source": [
    "### Hyde"
   ]
  },
  {
   "cell_type": "code",
   "execution_count": null,
   "id": "e9755ed2-7b65-402f-88cb-eb27ae930e6b",
   "metadata": {},
   "outputs": [],
   "source": [
    "from components.hyde import hyde_prompt, get_novel_info\n",
    "hyde_chain = hyde_prompt | llm_4o_mini | StrOutputParser()"
   ]
  },
  {
   "cell_type": "markdown",
   "id": "4dd3fa6c-4909-431a-950b-c7deb3a4952a",
   "metadata": {},
   "source": [
    "### Document Sort and Refinement"
   ]
  },
  {
   "cell_type": "code",
   "execution_count": null,
   "id": "f7c1f041-77b6-4de4-9b0c-e42da4958354",
   "metadata": {},
   "outputs": [],
   "source": [
    "from components.utils import sort_sequential_chunks,group_continuous_positions,merge_document_contents\n",
    "refine_docs_runnable = (\n",
    "    RunnableLambda(sort_sequential_chunks) | RunnableLambda(group_continuous_positions) | RunnableLambda(merge_document_contents)\n",
    ")"
   ]
  },
  {
   "cell_type": "markdown",
   "id": "de807ffb-3e7a-4ba0-8dbe-51dd2445d3bf",
   "metadata": {},
   "source": [
    "### Finalize Answer"
   ]
  },
  {
   "cell_type": "code",
   "execution_count": null,
   "id": "61216953-d760-4b06-9503-764ed9ca30bb",
   "metadata": {},
   "outputs": [],
   "source": [
    "from components.finalize_answer import finalize_prompt\n",
    "finalize_chain = finalize_prompt | llm | StrOutputParser()"
   ]
  },
  {
   "cell_type": "markdown",
   "id": "3185bb5c-8bcb-4ee5-b1d4-d0dd5ed046f0",
   "metadata": {},
   "source": [
    "## Construct Graph"
   ]
  },
  {
   "cell_type": "code",
   "execution_count": null,
   "id": "9181f654-a4c5-4f8f-b9e3-18f9205e7b19",
   "metadata": {},
   "outputs": [],
   "source": [
    "title2name = {\n",
    "    '流行暗殺節': '1.txt', '不如帰': '2.txt', 'カインの末裔': '3.txt', '競漕': '4.txt', '芽生': '5.txt', 'サーカスの怪人': '6.txt', '死生に関するいくつかの断想': '7.txt'\n",
    "}\n",
    "novel_titles = list(title2name.keys())\n",
    "    \n",
    "def identify_novel_title(query):\n",
    "\n",
    "    # クエリの中にタイトルが含まれているか\n",
    "    title_in_query = match_title(query)\n",
    "    \n",
    "    if title_in_query == \"該当なし\":\n",
    "    \n",
    "        # FaissでTop1\n",
    "        docs_faiss = faiss_retriever_e5_for_title_classification.invoke(\"query: \"+query)\n",
    "        docs_faiss = docs_faiss[:1]\n",
    "        title_faiss = find_most_common(docs_faiss)\n",
    "    \n",
    "        # BM25でTop1\n",
    "        docs_bm25 = bm25_retriever_for_title_classification.invoke(query)\n",
    "        docs_bm25 = docs_bm25[:1]\n",
    "        title_bm25 = find_most_common(docs_bm25)\n",
    "    \n",
    "        # テキスト検索でTop1\n",
    "        keywords = keyword_extraction_for_identify_novel_runnable.invoke(query)\n",
    "        title_keyword = pred_title_by_counts(keywords)\n",
    "    \n",
    "        # 多数決で決定\n",
    "        title = majority_vote([title_faiss,title_bm25,title_keyword])\n",
    "        \n",
    "        return title\n",
    "\n",
    "    else:\n",
    "        return title_in_query\n",
    "        \n",
    "        \n",
    "# タイトル分類と適切なリトリーバーの選択\n",
    "def create_chain(inputs):\n",
    "\n",
    "    # 質問(クエリ)\n",
    "    query = inputs[\"query\"]\n",
    "\n",
    "    # タイトルの特定\n",
    "    title = identify_novel_title(query)\n",
    "\n",
    "    # ルーティング\n",
    "    route = router_runnable.invoke(query)\n",
    "\n",
    "    # 要約文で回答(token節約)\n",
    "    summary_answer = summary_answer_runnable.invoke({\n",
    "        \"title\":title,\n",
    "        \"summary\":novels_dic[title2name[title]][\"summary\"],\n",
    "        \"question\":query\n",
    "    })\n",
    "\n",
    "    # python replを使うかのflag\n",
    "    python_agent_search = False\n",
    "\n",
    "    # 要約で回答できない場合\n",
    "    if \"回答不可\" == summary_answer[\"answer\"]:\n",
    "\n",
    "        ##### Retrieve #####\n",
    "        if route.datasource == \"retrieve\":\n",
    "            \n",
    "            # Novel index\n",
    "            index = novel_titles.index(title)\n",
    "            \n",
    "            ##### Retrieve Faiss \n",
    "            faiss_retriever = faiss_retriever_e5_list[index]\n",
    "            faiss_docs = faiss_retriever.invoke(\"query: \"+query)\n",
    "    \n",
    "            ##### Retrieve BM25\n",
    "            bm25_retriever = bm25_retriever_list[index]\n",
    "            bm25_docs = bm25_retriever.invoke(query)\n",
    "    \n",
    "            ##### Retrieve Faiss with Hyde \n",
    "            title_,author,summary,example_text = get_novel_info(index+1)\n",
    "            hyde_query = hyde_chain.invoke({\n",
    "                \"title\":title_, \"author\":author, \"summary\":summary, \"example\":example_text, \"question\":query\n",
    "            })\n",
    "            hyde_faiss_docs = faiss_retriever.invoke(\"query: \"+hyde_query)\n",
    "\n",
    "\n",
    "            # 特定の小説だけentity filterを利用\n",
    "            if title in ['カインの末裔','芽生']:\n",
    "                entity_filter_out = entity_filter_runnable.invoke({\n",
    "                    \"question\":query\n",
    "                })\n",
    "\n",
    "                # エンティティ検索\n",
    "                if entity_filter_out[\"use_filter\"]:\n",
    "                    entity = entity_filter_out[\"entity_filter\"]\n",
    "                    \n",
    "                    if isinstance(entity,str):\n",
    "                        entity = [entity]\n",
    "                    elif isinstance(entity,list):\n",
    "                        pass\n",
    "                    else:\n",
    "                        raise ValueError\n",
    "\n",
    "                    entity = [e for e in entity if e in [\"COUNTRY\",\"GEONAME\"]]\n",
    "\n",
    "                    # エンティティ検索を行う場合、今回はpython replの利用をトリガー\n",
    "                    if len(entity)>0:\n",
    "                        python_agent_search=True\n",
    "                else:\n",
    "                    pass\n",
    "                \n",
    "            # python replの利用\n",
    "            if python_agent_search:\n",
    "                docs_ = refine_docs_runnable.invoke(sum([faiss_docs,bm25_docs,hyde_faiss_docs],[]))\n",
    "                repl_tool,python_repl_runnable = create_python_repl_llm(local_val=format_docs(docs_),llm=llm)\n",
    "                tool_call_response = python_repl_runnable.invoke({\"query\":query})\n",
    "                merge_context = get_python_repl_executed_results(tool_call_response,repl_tool)\n",
    "            # Retrieve\n",
    "            else:\n",
    "                # Reranking\n",
    "                faiss_docs         = cohere_reranker.compress_documents(faiss_docs[:20],query)\n",
    "                bm25_docs          = cohere_reranker.compress_documents(bm25_docs[:20],query)\n",
    "                hyde_faiss_docs    = cohere_reranker.compress_documents(hyde_faiss_docs[:20],query)\n",
    "\n",
    "                # 各上位10件でRRF\n",
    "                merge_docs = reciprocal_rank_fusion([faiss_docs[:10],bm25_docs[:10],hyde_faiss_docs[:10]])\n",
    "                # merge_docs = refine_docs_runnable.invoke(merge_docs)\n",
    "                merge_docs = merge_docs[:10]\n",
    "                \n",
    "                # formatting for input to rag prompt\n",
    "                merge_context = format_docs(merge_docs)\n",
    "                \n",
    "            # generate answer\n",
    "            merge_answer = rag_chain.invoke({\"context\": merge_context, \"question\": query})\n",
    "            \n",
    "            # 参照文書の保存(ログ用)\n",
    "            references = [merge_answer+\"<><><>\"+merge_context]\n",
    "\n",
    "            # Finalize Answerに渡すための回答を整形\n",
    "            answers = \"\\n\".join([\n",
    "                f\"- Agent{i+1}: {ans}\" for i,ans in enumerate([\n",
    "                    merge_answer #, faiss_answer, bm25_answer, profile_faiss_answer, hyde_faiss_answer\n",
    "                ])])\n",
    "    \n",
    "        ##### Keyword Count #####\n",
    "        elif route.datasource == \"count_string\":\n",
    "            # 検索キーワードの作成\n",
    "            keyword = make_keyword_runnable.invoke(query)\n",
    "            # 検索対象となるテキストの取り出し\n",
    "            text = texts_dic[title2name[title]][\"content\"]\n",
    "            # 検索ヒット数\n",
    "            n_keyword = func_count_string_all_text(keyword,text)\n",
    "            # Finalize Answerに渡すための回答を整形\n",
    "            answers = \"\\n\".join([f\"- Agent{i+1}: {ans}\" for i,ans in enumerate([n_keyword])])\n",
    "            # 参照文書(ログ用)\n",
    "            references = [n_keyword]\n",
    "        else:\n",
    "            raise NotImplementedError\n",
    "\n",
    "    else:\n",
    "        # Finalize Answerに渡すための回答を整形\n",
    "        answers = f\"- Agent1: {summary_answer['answer']}\"\n",
    "        # 参照文書(ログ用)\n",
    "        references = summary_answer[\"reason\"]\n",
    "\n",
    "    \n",
    "    # 最終回答の作成\n",
    "    final_answer = finalize_chain.invoke({\n",
    "        \"question\": query, \"answers\": answers, \n",
    "    })\n",
    "      \n",
    "    return {\n",
    "        \"query\": query,\n",
    "        \"title\": title,\n",
    "        \"answers\": answers,\n",
    "        \"final_answer\": final_answer,\n",
    "        \"references\": references\n",
    "    }"
   ]
  },
  {
   "cell_type": "code",
   "execution_count": null,
   "id": "637ecc92-f717-4981-bdd2-bfd603e0cf74",
   "metadata": {},
   "outputs": [],
   "source": [
    "# RAG全体のRunnableを作成\n",
    "main_chain = RunnableLambda(create_chain)\n",
    "\n",
    "# debug用\n",
    "title_chain = RunnableLambda(identify_novel_title)"
   ]
  },
  {
   "cell_type": "code",
   "execution_count": null,
   "id": "b3634e97-7d85-43af-9dfe-bcf15d1ed76c",
   "metadata": {},
   "outputs": [],
   "source": [
    "# from IPython.display import Image, display\n",
    "# display(Image(main_chain.get_graph().draw_mermaid_png()))"
   ]
  },
  {
   "cell_type": "markdown",
   "id": "0cfe71b5-23c1-48a3-bb65-c482d0398f86",
   "metadata": {},
   "source": [
    "## Execute the whole RAG Runnable"
   ]
  },
  {
   "cell_type": "code",
   "execution_count": null,
   "id": "89b32e12-ada8-45fb-82be-3a5fe4770203",
   "metadata": {
    "scrolled": true
   },
   "outputs": [],
   "source": [
    "# batch processing\n",
    "answers = main_chain.batch([{\"query\":df.iloc[i][\"problem\"]]} for i in range(len(df))])"
   ]
  },
  {
   "cell_type": "code",
   "execution_count": null,
   "id": "83b35a2f-56b7-4bf7-9710-b76217e9db9b",
   "metadata": {},
   "outputs": [],
   "source": [
    "# 最終結果\n",
    "first_answers = [ans[\"answers\"] for ans in answers]\n",
    "final_answers = [ans[\"final_answer\"] for ans in answers]\n",
    "references    = [str(ans[\"references\"]).replace(\"\\n\",\"\").replace(\"\\\\n\",\"\") for ans in answers]"
   ]
  },
  {
   "cell_type": "code",
   "execution_count": null,
   "id": "12856156-4c00-4995-a2fb-872ff8b03bee",
   "metadata": {},
   "outputs": [],
   "source": [
    "import tiktoken\n",
    "def get_num_tokens(text):\n",
    "    \"\"\"You can get the number of tokens in a text.\"\"\"\n",
    "    encoding = tiktoken.encoding_for_model('gpt-4o-2024-08-06')\n",
    "    num_tokens = len(encoding.encode(text))\n",
    "    return num_tokens\n",
    "\n",
    "sorted([get_num_tokens(ans) for ans in final_answers])[::-1][:10]"
   ]
  },
  {
   "cell_type": "code",
   "execution_count": null,
   "id": "71cc56fd-a98c-4473-8024-589efdb47837",
   "metadata": {},
   "outputs": [],
   "source": [
    "df[\"予測\"] = final_answers\n",
    "df[\"コンテキスト\"] = references"
   ]
  },
  {
   "cell_type": "code",
   "execution_count": null,
   "id": "8a7fec91-559c-48f5-84a8-e717fb16939b",
   "metadata": {},
   "outputs": [],
   "source": [
    "save_file = \"../evaluation/submit/2024xxxx-xx:xx.csv\"\n",
    "assert not os.path.exists(save_file)\n",
    "df[[\"index\",\"予測\",\"コンテキスト\"]].to_csv(save_file,index=False,header=False)"
   ]
  }
 ],
 "metadata": {
  "kernelspec": {
   "display_name": "Python 3 (ipykernel)",
   "language": "python",
   "name": "python3"
  },
  "language_info": {
   "codemirror_mode": {
    "name": "ipython",
    "version": 3
   },
   "file_extension": ".py",
   "mimetype": "text/x-python",
   "name": "python",
   "nbconvert_exporter": "python",
   "pygments_lexer": "ipython3",
   "version": "3.12.4"
  }
 },
 "nbformat": 4,
 "nbformat_minor": 5
}
